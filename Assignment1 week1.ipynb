{
 "cells": [
  {
   "cell_type": "markdown",
   "id": "6265217d-6f99-48a7-832d-5c4dc51e8d29",
   "metadata": {},
   "source": [
    "### Ans1"
   ]
  },
  {
   "cell_type": "code",
   "execution_count": null,
   "id": "e05cf305-1776-4678-b3c6-491bb7dd3183",
   "metadata": {},
   "outputs": [],
   "source": [
    "a='nabeel'\n",
    "b=['abc',3,4,5,True]\n",
    "c=2.5\n",
    "d=(1,2,3,4) #PLEASE READ - Tuples are yet to be covered in the course"
   ]
  },
  {
   "cell_type": "markdown",
   "id": "2aa603c1-c0fc-43a6-96a6-d35ce17b0189",
   "metadata": {},
   "source": [
    "### Ans2"
   ]
  },
  {
   "cell_type": "code",
   "execution_count": null,
   "id": "c43dc50a-7c5c-48f6-bd17-b19253950a3e",
   "metadata": {},
   "outputs": [],
   "source": [
    "1)string\n",
    "2)string\n",
    "3)list\n",
    "4)Integer"
   ]
  },
  {
   "cell_type": "markdown",
   "id": "69d04fb4-b8ea-4a0f-8f98-61d059e1f7f2",
   "metadata": {},
   "source": [
    "### Ans3"
   ]
  },
  {
   "cell_type": "code",
   "execution_count": null,
   "id": "f75df18d-2b6d-4239-8304-2cd843cddbdc",
   "metadata": {},
   "outputs": [],
   "source": [
    "1) float division   5/2=2.5\n",
    "2) modulo operator   5%2=1\n",
    "3) floor division   5//2=2\n",
    "4) exponential      2**3=8"
   ]
  },
  {
   "cell_type": "markdown",
   "id": "44d28354-2da6-4cdc-827c-8a538afc10b1",
   "metadata": {},
   "source": [
    "### Ans4"
   ]
  },
  {
   "cell_type": "code",
   "execution_count": 2,
   "id": "0d49ce37-f9bb-4f3b-acad-ff3634602a96",
   "metadata": {},
   "outputs": [
    {
     "name": "stdout",
     "output_type": "stream",
     "text": [
      "1 <class 'int'>\n",
      "2 <class 'int'>\n",
      "3 <class 'int'>\n",
      "4 <class 'int'>\n",
      "5 <class 'int'>\n",
      "6 <class 'int'>\n",
      "7 <class 'int'>\n",
      "abc <class 'str'>\n",
      "7.5 <class 'float'>\n",
      "5.9 <class 'float'>\n"
     ]
    }
   ],
   "source": [
    "l=[1,2,3,4,5,6,7,'abc',7.5,5.9]\n",
    "for i in l:\n",
    "    print(i,type(i))"
   ]
  },
  {
   "cell_type": "markdown",
   "id": "a8f0f341-789f-4d27-b865-33f605ec7e87",
   "metadata": {},
   "source": [
    "### Ans5"
   ]
  },
  {
   "cell_type": "code",
   "execution_count": 9,
   "id": "6231e518-2ed0-43a9-b759-133e4c5fb426",
   "metadata": {},
   "outputs": [
    {
     "name": "stdin",
     "output_type": "stream",
     "text": [
      " 7\n",
      " 7\n"
     ]
    },
    {
     "name": "stdout",
     "output_type": "stream",
     "text": [
      "1 yes\n"
     ]
    }
   ],
   "source": [
    "A=int(input())\n",
    "B=int(input())\n",
    "count=0\n",
    "extra=A\n",
    "while extra-B>=0:\n",
    "    count+=1\n",
    "    extra=extra-B\n",
    "if extra%B==0:\n",
    "    print(count,\"yes\")\n",
    "else:\n",
    "    print(count, \"no\")\n",
    "\n",
    "        "
   ]
  },
  {
   "cell_type": "code",
   "execution_count": null,
   "id": "8e627f8a-d917-4951-9c70-ec47367eb74c",
   "metadata": {},
   "outputs": [],
   "source": []
  },
  {
   "cell_type": "markdown",
   "id": "7a0de37f-7f50-4624-af82-51ec3cc19cd4",
   "metadata": {},
   "source": [
    "### Ans6"
   ]
  },
  {
   "cell_type": "code",
   "execution_count": 17,
   "id": "4e394829-e24f-4793-b732-9cbbea0acecc",
   "metadata": {},
   "outputs": [],
   "source": [
    "lst=list(range(0,25))"
   ]
  },
  {
   "cell_type": "code",
   "execution_count": 18,
   "id": "1a7abf1f-66f8-4e42-b4d0-883d3353eab2",
   "metadata": {},
   "outputs": [
    {
     "name": "stdout",
     "output_type": "stream",
     "text": [
      "0 is divisible by 3\n",
      "1 is not divisible by 3\n",
      "2 is not divisible by 3\n",
      "3 is divisible by 3\n",
      "4 is not divisible by 3\n",
      "5 is not divisible by 3\n",
      "6 is divisible by 3\n",
      "7 is not divisible by 3\n",
      "8 is not divisible by 3\n",
      "9 is divisible by 3\n",
      "10 is not divisible by 3\n",
      "11 is not divisible by 3\n",
      "12 is divisible by 3\n",
      "13 is not divisible by 3\n",
      "14 is not divisible by 3\n",
      "15 is divisible by 3\n",
      "16 is not divisible by 3\n",
      "17 is not divisible by 3\n",
      "18 is divisible by 3\n",
      "19 is not divisible by 3\n",
      "20 is not divisible by 3\n",
      "21 is divisible by 3\n",
      "22 is not divisible by 3\n",
      "23 is not divisible by 3\n",
      "24 is divisible by 3\n"
     ]
    }
   ],
   "source": [
    "for i in lst:\n",
    "    if i%3 == 0:\n",
    "        print(str(i) + \" is divisible by 3\")\n",
    "    else:\n",
    "        print(str(i) + \" is not divisible by 3\")"
   ]
  },
  {
   "cell_type": "markdown",
   "id": "eeaf0a3b-c902-4c29-9962-1f0653cdc965",
   "metadata": {},
   "source": [
    "### Ans7"
   ]
  },
  {
   "cell_type": "markdown",
   "id": "68e2c02d-d71c-457c-83c8-95e4d1f2c278",
   "metadata": {},
   "source": [
    "In mutable datatype we can alter or change the value of object without changing the the memory it is refering.\n",
    "\n",
    "list=[1,2,3,4,5]\n",
    "list.remove(3)\n",
    "list=[1,2,4,5]\n",
    "\n",
    "\n",
    "\n",
    "In immutable datatype we can alter the value of the object but yes we can assign a whole nee object to the variable.\n",
    "\n",
    "str1=\"abcde\"\n",
    "str1[1]=w #ERROR\n",
    "\n"
   ]
  },
  {
   "cell_type": "code",
   "execution_count": null,
   "id": "85ccade5-2b29-45e7-a31d-0519a11ef6fb",
   "metadata": {},
   "outputs": [],
   "source": []
  },
  {
   "cell_type": "code",
   "execution_count": null,
   "id": "b40dafd2-eb9a-4c84-b26d-8e715e55c5ec",
   "metadata": {},
   "outputs": [],
   "source": []
  },
  {
   "cell_type": "code",
   "execution_count": null,
   "id": "6170574b-6af6-442e-977e-a29b38088be6",
   "metadata": {},
   "outputs": [],
   "source": []
  },
  {
   "cell_type": "code",
   "execution_count": null,
   "id": "1e04d380-b2fc-4dac-a3ef-28c4afbdb836",
   "metadata": {},
   "outputs": [],
   "source": []
  },
  {
   "cell_type": "code",
   "execution_count": null,
   "id": "531b6269-102c-4f3b-8f43-373dde4a8c3d",
   "metadata": {},
   "outputs": [],
   "source": []
  }
 ],
 "metadata": {
  "kernelspec": {
   "display_name": "Python 3 (ipykernel)",
   "language": "python",
   "name": "python3"
  },
  "language_info": {
   "codemirror_mode": {
    "name": "ipython",
    "version": 3
   },
   "file_extension": ".py",
   "mimetype": "text/x-python",
   "name": "python",
   "nbconvert_exporter": "python",
   "pygments_lexer": "ipython3",
   "version": "3.10.8"
  }
 },
 "nbformat": 4,
 "nbformat_minor": 5
}
